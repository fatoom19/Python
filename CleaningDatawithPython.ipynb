{
 "cells": [
  {
   "cell_type": "code",
   "execution_count": 266,
   "id": "running-davis",
   "metadata": {},
   "outputs": [],
   "source": [
    "import pandas as pd\n",
    "import numpy as np\n",
    "import matplotlib.pyplot as plt\n",
    "\n",
    "plt.style.use(\"seaborn\")\n",
    "df = pd.read_csv(\"burritos.csv\")"
   ]
  },
  {
   "cell_type": "code",
   "execution_count": 240,
   "id": "renewable-overhead",
   "metadata": {},
   "outputs": [
    {
     "data": {
      "text/html": [
       "<div>\n",
       "<style scoped>\n",
       "    .dataframe tbody tr th:only-of-type {\n",
       "        vertical-align: middle;\n",
       "    }\n",
       "\n",
       "    .dataframe tbody tr th {\n",
       "        vertical-align: top;\n",
       "    }\n",
       "\n",
       "    .dataframe thead th {\n",
       "        text-align: right;\n",
       "    }\n",
       "</style>\n",
       "<table border=\"1\" class=\"dataframe\">\n",
       "  <thead>\n",
       "    <tr style=\"text-align: right;\">\n",
       "      <th></th>\n",
       "      <th>Location</th>\n",
       "      <th>Burrito</th>\n",
       "      <th>Date</th>\n",
       "      <th>Neighborhood</th>\n",
       "      <th>Address</th>\n",
       "      <th>URL</th>\n",
       "      <th>Yelp</th>\n",
       "      <th>Google</th>\n",
       "      <th>Chips</th>\n",
       "      <th>Cost</th>\n",
       "      <th>...</th>\n",
       "      <th>Nopales</th>\n",
       "      <th>Lobster</th>\n",
       "      <th>Queso</th>\n",
       "      <th>Egg</th>\n",
       "      <th>Mushroom</th>\n",
       "      <th>Bacon</th>\n",
       "      <th>Sushi</th>\n",
       "      <th>Avocado</th>\n",
       "      <th>Corn</th>\n",
       "      <th>Zucchini</th>\n",
       "    </tr>\n",
       "  </thead>\n",
       "  <tbody>\n",
       "    <tr>\n",
       "      <th>0</th>\n",
       "      <td>Donato's taco shop</td>\n",
       "      <td>California</td>\n",
       "      <td>1/18/2016</td>\n",
       "      <td>Miramar</td>\n",
       "      <td>6780 Miramar Rd</td>\n",
       "      <td>http://donatostacoshop.net/</td>\n",
       "      <td>3.5</td>\n",
       "      <td>4.2</td>\n",
       "      <td>NaN</td>\n",
       "      <td>6.49</td>\n",
       "      <td>...</td>\n",
       "      <td>NaN</td>\n",
       "      <td>NaN</td>\n",
       "      <td>NaN</td>\n",
       "      <td>NaN</td>\n",
       "      <td>NaN</td>\n",
       "      <td>NaN</td>\n",
       "      <td>NaN</td>\n",
       "      <td>NaN</td>\n",
       "      <td>NaN</td>\n",
       "      <td>NaN</td>\n",
       "    </tr>\n",
       "    <tr>\n",
       "      <th>1</th>\n",
       "      <td>Oscar's Mexican food</td>\n",
       "      <td>California</td>\n",
       "      <td>1/24/2016</td>\n",
       "      <td>San Marcos</td>\n",
       "      <td>225 S Rancho Santa Fe Rd</td>\n",
       "      <td>http://www.yelp.com/biz/oscars-mexican-food-sa...</td>\n",
       "      <td>3.5</td>\n",
       "      <td>3.3</td>\n",
       "      <td>NaN</td>\n",
       "      <td>5.45</td>\n",
       "      <td>...</td>\n",
       "      <td>NaN</td>\n",
       "      <td>NaN</td>\n",
       "      <td>NaN</td>\n",
       "      <td>NaN</td>\n",
       "      <td>NaN</td>\n",
       "      <td>NaN</td>\n",
       "      <td>NaN</td>\n",
       "      <td>NaN</td>\n",
       "      <td>NaN</td>\n",
       "      <td>NaN</td>\n",
       "    </tr>\n",
       "    <tr>\n",
       "      <th>2</th>\n",
       "      <td>Oscar's Mexican food</td>\n",
       "      <td>Carnitas</td>\n",
       "      <td>1/24/2016</td>\n",
       "      <td>NaN</td>\n",
       "      <td>NaN</td>\n",
       "      <td>NaN</td>\n",
       "      <td>NaN</td>\n",
       "      <td>NaN</td>\n",
       "      <td>NaN</td>\n",
       "      <td>4.85</td>\n",
       "      <td>...</td>\n",
       "      <td>NaN</td>\n",
       "      <td>NaN</td>\n",
       "      <td>NaN</td>\n",
       "      <td>NaN</td>\n",
       "      <td>NaN</td>\n",
       "      <td>NaN</td>\n",
       "      <td>NaN</td>\n",
       "      <td>NaN</td>\n",
       "      <td>NaN</td>\n",
       "      <td>NaN</td>\n",
       "    </tr>\n",
       "    <tr>\n",
       "      <th>3</th>\n",
       "      <td>Oscar's Mexican food</td>\n",
       "      <td>Carne asada</td>\n",
       "      <td>1/24/2016</td>\n",
       "      <td>NaN</td>\n",
       "      <td>NaN</td>\n",
       "      <td>NaN</td>\n",
       "      <td>NaN</td>\n",
       "      <td>NaN</td>\n",
       "      <td>NaN</td>\n",
       "      <td>5.25</td>\n",
       "      <td>...</td>\n",
       "      <td>NaN</td>\n",
       "      <td>NaN</td>\n",
       "      <td>NaN</td>\n",
       "      <td>NaN</td>\n",
       "      <td>NaN</td>\n",
       "      <td>NaN</td>\n",
       "      <td>NaN</td>\n",
       "      <td>NaN</td>\n",
       "      <td>NaN</td>\n",
       "      <td>NaN</td>\n",
       "    </tr>\n",
       "    <tr>\n",
       "      <th>4</th>\n",
       "      <td>Pollos Maria</td>\n",
       "      <td>California</td>\n",
       "      <td>1/27/2016</td>\n",
       "      <td>Carlsbad</td>\n",
       "      <td>3055 Harding St</td>\n",
       "      <td>http://pollosmaria.com/</td>\n",
       "      <td>4.0</td>\n",
       "      <td>3.8</td>\n",
       "      <td>x</td>\n",
       "      <td>6.59</td>\n",
       "      <td>...</td>\n",
       "      <td>NaN</td>\n",
       "      <td>NaN</td>\n",
       "      <td>NaN</td>\n",
       "      <td>NaN</td>\n",
       "      <td>NaN</td>\n",
       "      <td>NaN</td>\n",
       "      <td>NaN</td>\n",
       "      <td>NaN</td>\n",
       "      <td>NaN</td>\n",
       "      <td>NaN</td>\n",
       "    </tr>\n",
       "    <tr>\n",
       "      <th>...</th>\n",
       "      <td>...</td>\n",
       "      <td>...</td>\n",
       "      <td>...</td>\n",
       "      <td>...</td>\n",
       "      <td>...</td>\n",
       "      <td>...</td>\n",
       "      <td>...</td>\n",
       "      <td>...</td>\n",
       "      <td>...</td>\n",
       "      <td>...</td>\n",
       "      <td>...</td>\n",
       "      <td>...</td>\n",
       "      <td>...</td>\n",
       "      <td>...</td>\n",
       "      <td>...</td>\n",
       "      <td>...</td>\n",
       "      <td>...</td>\n",
       "      <td>...</td>\n",
       "      <td>...</td>\n",
       "      <td>...</td>\n",
       "      <td>...</td>\n",
       "    </tr>\n",
       "    <tr>\n",
       "      <th>418</th>\n",
       "      <td>Valentine's Mexican Food</td>\n",
       "      <td>Al Pastor</td>\n",
       "      <td>8/27/2019</td>\n",
       "      <td>NaN</td>\n",
       "      <td>NaN</td>\n",
       "      <td>NaN</td>\n",
       "      <td>NaN</td>\n",
       "      <td>NaN</td>\n",
       "      <td>NaN</td>\n",
       "      <td>6.00</td>\n",
       "      <td>...</td>\n",
       "      <td>NaN</td>\n",
       "      <td>NaN</td>\n",
       "      <td>NaN</td>\n",
       "      <td>NaN</td>\n",
       "      <td>NaN</td>\n",
       "      <td>NaN</td>\n",
       "      <td>NaN</td>\n",
       "      <td>NaN</td>\n",
       "      <td>NaN</td>\n",
       "      <td>NaN</td>\n",
       "    </tr>\n",
       "    <tr>\n",
       "      <th>419</th>\n",
       "      <td>Valentine's Mexican Food</td>\n",
       "      <td>Chile Relleno</td>\n",
       "      <td>8/27/2019</td>\n",
       "      <td>NaN</td>\n",
       "      <td>NaN</td>\n",
       "      <td>NaN</td>\n",
       "      <td>NaN</td>\n",
       "      <td>NaN</td>\n",
       "      <td>NaN</td>\n",
       "      <td>6.00</td>\n",
       "      <td>...</td>\n",
       "      <td>NaN</td>\n",
       "      <td>NaN</td>\n",
       "      <td>NaN</td>\n",
       "      <td>NaN</td>\n",
       "      <td>NaN</td>\n",
       "      <td>NaN</td>\n",
       "      <td>NaN</td>\n",
       "      <td>NaN</td>\n",
       "      <td>NaN</td>\n",
       "      <td>NaN</td>\n",
       "    </tr>\n",
       "    <tr>\n",
       "      <th>420</th>\n",
       "      <td>Valentine's Mexican Food</td>\n",
       "      <td>California</td>\n",
       "      <td>8/27/2019</td>\n",
       "      <td>NaN</td>\n",
       "      <td>NaN</td>\n",
       "      <td>NaN</td>\n",
       "      <td>NaN</td>\n",
       "      <td>NaN</td>\n",
       "      <td>NaN</td>\n",
       "      <td>7.90</td>\n",
       "      <td>...</td>\n",
       "      <td>NaN</td>\n",
       "      <td>NaN</td>\n",
       "      <td>NaN</td>\n",
       "      <td>NaN</td>\n",
       "      <td>NaN</td>\n",
       "      <td>NaN</td>\n",
       "      <td>NaN</td>\n",
       "      <td>NaN</td>\n",
       "      <td>NaN</td>\n",
       "      <td>NaN</td>\n",
       "    </tr>\n",
       "    <tr>\n",
       "      <th>421</th>\n",
       "      <td>Valentine's Mexican Food</td>\n",
       "      <td>Shrimp</td>\n",
       "      <td>8/27/2019</td>\n",
       "      <td>NaN</td>\n",
       "      <td>NaN</td>\n",
       "      <td>NaN</td>\n",
       "      <td>NaN</td>\n",
       "      <td>NaN</td>\n",
       "      <td>NaN</td>\n",
       "      <td>7.90</td>\n",
       "      <td>...</td>\n",
       "      <td>NaN</td>\n",
       "      <td>NaN</td>\n",
       "      <td>NaN</td>\n",
       "      <td>NaN</td>\n",
       "      <td>NaN</td>\n",
       "      <td>NaN</td>\n",
       "      <td>NaN</td>\n",
       "      <td>NaN</td>\n",
       "      <td>NaN</td>\n",
       "      <td>NaN</td>\n",
       "    </tr>\n",
       "    <tr>\n",
       "      <th>422</th>\n",
       "      <td>Valentine's Mexican Food</td>\n",
       "      <td>Pollo Asado</td>\n",
       "      <td>8/27/2019</td>\n",
       "      <td>NaN</td>\n",
       "      <td>NaN</td>\n",
       "      <td>NaN</td>\n",
       "      <td>NaN</td>\n",
       "      <td>NaN</td>\n",
       "      <td>NaN</td>\n",
       "      <td>5.50</td>\n",
       "      <td>...</td>\n",
       "      <td>NaN</td>\n",
       "      <td>NaN</td>\n",
       "      <td>NaN</td>\n",
       "      <td>NaN</td>\n",
       "      <td>NaN</td>\n",
       "      <td>NaN</td>\n",
       "      <td>NaN</td>\n",
       "      <td>NaN</td>\n",
       "      <td>NaN</td>\n",
       "      <td>NaN</td>\n",
       "    </tr>\n",
       "  </tbody>\n",
       "</table>\n",
       "<p>423 rows × 66 columns</p>\n",
       "</div>"
      ],
      "text/plain": [
       "                     Location        Burrito       Date Neighborhood  \\\n",
       "0          Donato's taco shop    California   1/18/2016      Miramar   \n",
       "1        Oscar's Mexican food    California   1/24/2016   San Marcos   \n",
       "2        Oscar's Mexican food       Carnitas  1/24/2016          NaN   \n",
       "3        Oscar's Mexican food    Carne asada  1/24/2016          NaN   \n",
       "4                Pollos Maria     California  1/27/2016     Carlsbad   \n",
       "..                        ...            ...        ...          ...   \n",
       "418  Valentine's Mexican Food      Al Pastor  8/27/2019          NaN   \n",
       "419  Valentine's Mexican Food  Chile Relleno  8/27/2019          NaN   \n",
       "420  Valentine's Mexican Food     California  8/27/2019          NaN   \n",
       "421  Valentine's Mexican Food         Shrimp  8/27/2019          NaN   \n",
       "422  Valentine's Mexican Food    Pollo Asado  8/27/2019          NaN   \n",
       "\n",
       "                      Address  \\\n",
       "0             6780 Miramar Rd   \n",
       "1    225 S Rancho Santa Fe Rd   \n",
       "2                         NaN   \n",
       "3                         NaN   \n",
       "4             3055 Harding St   \n",
       "..                        ...   \n",
       "418                       NaN   \n",
       "419                       NaN   \n",
       "420                       NaN   \n",
       "421                       NaN   \n",
       "422                       NaN   \n",
       "\n",
       "                                                   URL  Yelp  Google Chips  \\\n",
       "0                          http://donatostacoshop.net/   3.5     4.2   NaN   \n",
       "1    http://www.yelp.com/biz/oscars-mexican-food-sa...   3.5     3.3   NaN   \n",
       "2                                                  NaN   NaN     NaN   NaN   \n",
       "3                                                  NaN   NaN     NaN   NaN   \n",
       "4                              http://pollosmaria.com/   4.0     3.8     x   \n",
       "..                                                 ...   ...     ...   ...   \n",
       "418                                                NaN   NaN     NaN   NaN   \n",
       "419                                                NaN   NaN     NaN   NaN   \n",
       "420                                                NaN   NaN     NaN   NaN   \n",
       "421                                                NaN   NaN     NaN   NaN   \n",
       "422                                                NaN   NaN     NaN   NaN   \n",
       "\n",
       "     Cost  ...  Nopales  Lobster  Queso  Egg  Mushroom  Bacon  Sushi  Avocado  \\\n",
       "0    6.49  ...      NaN      NaN    NaN  NaN       NaN    NaN    NaN      NaN   \n",
       "1    5.45  ...      NaN      NaN    NaN  NaN       NaN    NaN    NaN      NaN   \n",
       "2    4.85  ...      NaN      NaN    NaN  NaN       NaN    NaN    NaN      NaN   \n",
       "3    5.25  ...      NaN      NaN    NaN  NaN       NaN    NaN    NaN      NaN   \n",
       "4    6.59  ...      NaN      NaN    NaN  NaN       NaN    NaN    NaN      NaN   \n",
       "..    ...  ...      ...      ...    ...  ...       ...    ...    ...      ...   \n",
       "418  6.00  ...      NaN      NaN    NaN  NaN       NaN    NaN    NaN      NaN   \n",
       "419  6.00  ...      NaN      NaN    NaN  NaN       NaN    NaN    NaN      NaN   \n",
       "420  7.90  ...      NaN      NaN    NaN  NaN       NaN    NaN    NaN      NaN   \n",
       "421  7.90  ...      NaN      NaN    NaN  NaN       NaN    NaN    NaN      NaN   \n",
       "422  5.50  ...      NaN      NaN    NaN  NaN       NaN    NaN    NaN      NaN   \n",
       "\n",
       "     Corn  Zucchini  \n",
       "0     NaN       NaN  \n",
       "1     NaN       NaN  \n",
       "2     NaN       NaN  \n",
       "3     NaN       NaN  \n",
       "4     NaN       NaN  \n",
       "..    ...       ...  \n",
       "418   NaN       NaN  \n",
       "419   NaN       NaN  \n",
       "420   NaN       NaN  \n",
       "421   NaN       NaN  \n",
       "422   NaN       NaN  \n",
       "\n",
       "[423 rows x 66 columns]"
      ]
     },
     "execution_count": 240,
     "metadata": {},
     "output_type": "execute_result"
    }
   ],
   "source": [
    "df"
   ]
  },
  {
   "cell_type": "markdown",
   "id": "ceramic-indicator",
   "metadata": {},
   "source": [
    "# Exploring Data"
   ]
  },
  {
   "cell_type": "code",
   "execution_count": 208,
   "id": "bound-scanner",
   "metadata": {},
   "outputs": [
    {
     "name": "stdout",
     "output_type": "stream",
     "text": [
      "<class 'pandas.core.frame.DataFrame'>\n",
      "RangeIndex: 423 entries, 0 to 422\n",
      "Data columns (total 66 columns):\n",
      " #   Column          Non-Null Count  Dtype  \n",
      "---  ------          --------------  -----  \n",
      " 0   Location        423 non-null    object \n",
      " 1   Burrito         423 non-null    object \n",
      " 2   Date            423 non-null    object \n",
      " 3   Neighborhood    92 non-null     object \n",
      " 4   Address         88 non-null     object \n",
      " 5   URL             87 non-null     object \n",
      " 6   Yelp            87 non-null     float64\n",
      " 7   Google          87 non-null     float64\n",
      " 8   Chips           26 non-null     object \n",
      " 9   Cost            416 non-null    float64\n",
      " 10  Hunger          420 non-null    float64\n",
      " 11  Mass (g)        22 non-null     float64\n",
      " 12  Density (g/mL)  22 non-null     float64\n",
      " 13  Length          284 non-null    float64\n",
      " 14  Circum          282 non-null    float64\n",
      " 15  Volume          282 non-null    float64\n",
      " 16  Tortilla        423 non-null    float64\n",
      " 17  Temp            403 non-null    float64\n",
      " 18  Meat            409 non-null    float64\n",
      " 19  Fillings        420 non-null    float64\n",
      " 20  Meat:filling    414 non-null    float64\n",
      " 21  Uniformity      421 non-null    float64\n",
      " 22  Salsa           398 non-null    float64\n",
      " 23  Synergy         421 non-null    float64\n",
      " 24  Wrap            420 non-null    float64\n",
      " 25  overall         421 non-null    float64\n",
      " 26  Rec             233 non-null    object \n",
      " 27  Reviewer        422 non-null    object \n",
      " 28  Notes           146 non-null    object \n",
      " 29  Unreliable      33 non-null     object \n",
      " 30  NonSD           7 non-null      object \n",
      " 31  Beef            180 non-null    object \n",
      " 32  Pico            159 non-null    object \n",
      " 33  Guac            155 non-null    object \n",
      " 34  Cheese          160 non-null    object \n",
      " 35  Fries           128 non-null    object \n",
      " 36  Sour cream      92 non-null     object \n",
      " 37  Pork            51 non-null     object \n",
      " 38  Chicken         21 non-null     object \n",
      " 39  Shrimp          21 non-null     object \n",
      " 40  Fish            6 non-null      object \n",
      " 41  Rice            36 non-null     object \n",
      " 42  Beans           35 non-null     object \n",
      " 43  Lettuce         11 non-null     object \n",
      " 44  Tomato          7 non-null      object \n",
      " 45  Bell peper      7 non-null      object \n",
      " 46  Carrots         1 non-null      object \n",
      " 47  Cabbage         8 non-null      object \n",
      " 48  Sauce           38 non-null     object \n",
      " 49  Salsa.1         7 non-null      object \n",
      " 50  Cilantro        15 non-null     object \n",
      " 51  Onion           17 non-null     object \n",
      " 52  Taquito         4 non-null      object \n",
      " 53  Pineapple       7 non-null      object \n",
      " 54  Ham             2 non-null      object \n",
      " 55  Chile relleno   4 non-null      object \n",
      " 56  Nopales         4 non-null      object \n",
      " 57  Lobster         1 non-null      object \n",
      " 58  Queso           0 non-null      float64\n",
      " 59  Egg             5 non-null      object \n",
      " 60  Mushroom        3 non-null      object \n",
      " 61  Bacon           3 non-null      object \n",
      " 62  Sushi           2 non-null      object \n",
      " 63  Avocado         13 non-null     object \n",
      " 64  Corn            3 non-null      object \n",
      " 65  Zucchini        1 non-null      object \n",
      "dtypes: float64(20), object(46)\n",
      "memory usage: 218.2+ KB\n"
     ]
    }
   ],
   "source": [
    "df.info()"
   ]
  },
  {
   "cell_type": "markdown",
   "id": "republican-extent",
   "metadata": {},
   "source": [
    "# Determine how many missing values are present in each column"
   ]
  },
  {
   "cell_type": "code",
   "execution_count": 209,
   "id": "studied-breakdown",
   "metadata": {},
   "outputs": [
    {
     "data": {
      "text/plain": [
       "Location          0\n",
       "Burrito           0\n",
       "Date              0\n",
       "Neighborhood    331\n",
       "Address         335\n",
       "               ... \n",
       "Bacon           420\n",
       "Sushi           421\n",
       "Avocado         410\n",
       "Corn            420\n",
       "Zucchini        422\n",
       "Length: 66, dtype: int64"
      ]
     },
     "execution_count": 209,
     "metadata": {},
     "output_type": "execute_result"
    }
   ],
   "source": [
    "df.isnull().sum()"
   ]
  },
  {
   "cell_type": "markdown",
   "id": "forbidden-shirt",
   "metadata": {},
   "source": [
    "# Determine the total amount of missing values\n"
   ]
  },
  {
   "cell_type": "code",
   "execution_count": 210,
   "id": "iraqi-smile",
   "metadata": {},
   "outputs": [
    {
     "data": {
      "text/plain": [
       "18256"
      ]
     },
     "execution_count": 210,
     "metadata": {},
     "output_type": "execute_result"
    }
   ],
   "source": [
    "sum(df.isnull().sum())"
   ]
  },
  {
   "cell_type": "markdown",
   "id": "capable-darkness",
   "metadata": {},
   "source": [
    "# Before replacing or filling null values. I need to eliminate all columns that has null over 70%\n"
   ]
  },
  {
   "cell_type": "code",
   "execution_count": 211,
   "id": "decent-musical",
   "metadata": {},
   "outputs": [],
   "source": [
    "df.dropna(axis=1, thresh = int(0.7*df.shape[0]), inplace=True)"
   ]
  },
  {
   "cell_type": "code",
   "execution_count": 212,
   "id": "empty-lawsuit",
   "metadata": {},
   "outputs": [
    {
     "data": {
      "text/plain": [
       "(423, 16)"
      ]
     },
     "execution_count": 212,
     "metadata": {},
     "output_type": "execute_result"
    }
   ],
   "source": [
    "#We got 16 columns of 66\n",
    "df.shape"
   ]
  },
  {
   "cell_type": "code",
   "execution_count": 213,
   "id": "minimal-madagascar",
   "metadata": {},
   "outputs": [
    {
     "data": {
      "text/plain": [
       "Index(['Location', 'Burrito', 'Date', 'Cost', 'Hunger', 'Tortilla', 'Temp',\n",
       "       'Meat', 'Fillings', 'Meat:filling', 'Uniformity', 'Salsa', 'Synergy',\n",
       "       'Wrap', 'overall', 'Reviewer'],\n",
       "      dtype='object')"
      ]
     },
     "execution_count": 213,
     "metadata": {},
     "output_type": "execute_result"
    }
   ],
   "source": [
    "df.columns"
   ]
  },
  {
   "cell_type": "markdown",
   "id": "magnetic-makeup",
   "metadata": {},
   "source": [
    "# Replace with the mean\n"
   ]
  },
  {
   "cell_type": "markdown",
   "id": "european-project",
   "metadata": {},
   "source": [
    "#### Create a histogram or bar chart of what the distribution of values looks like before handling NaN values."
   ]
  },
  {
   "cell_type": "code",
   "execution_count": 214,
   "id": "greenhouse-sword",
   "metadata": {},
   "outputs": [
    {
     "data": {
      "text/plain": [
       "7"
      ]
     },
     "execution_count": 214,
     "metadata": {},
     "output_type": "execute_result"
    }
   ],
   "source": [
    "#df[\"Cost\"].astype(int)\n",
    "d= df[\"Cost\"]\n",
    "sum(d.isnull())"
   ]
  },
  {
   "cell_type": "code",
   "execution_count": 216,
   "id": "arbitrary-cloud",
   "metadata": {},
   "outputs": [
    {
     "data": {
      "image/png": "[encoded data removed]",
      "text/plain": [
       "<Figure size 576x396 with 1 Axes>"
      ]
     },
     "metadata": {},
     "output_type": "display_data"
    }
   ],
   "source": [
    "# I chose the mean for cost column because there is no big difference of costs\n",
    "# Plot a histogram with bins=20 to see distribution of data\n",
    "d= df[\"Cost\"]\n",
    "d.plot(kind=\"hist\",title=\"Cost of Burrito \")\n",
    "plt.xlabel(\"cost\")\n",
    "plt.show()\n",
    "#I don't need Y labels since the frequency is what I need\n",
    "#notice that x= 7 is less than 250"
   ]
  },
  {
   "cell_type": "markdown",
   "id": "included-champagne",
   "metadata": {},
   "source": [
    "#### Create a histogram or bar chart of what the distribution of values looks like after handling NaN values."
   ]
  },
  {
   "cell_type": "code",
   "execution_count": 217,
   "id": "alternate-disposal",
   "metadata": {},
   "outputs": [
    {
     "data": {
      "text/plain": [
       "0"
      ]
     },
     "execution_count": 217,
     "metadata": {},
     "output_type": "execute_result"
    }
   ],
   "source": [
    "#First fill with mean\n",
    "cmean = round(df[\"Cost\"].mean())\n",
    "df[\"Cost\"] = df[\"Cost\"].fillna(cmean)\n",
    "#check\n",
    "sum(df[\"Cost\"].isnull())"
   ]
  },
  {
   "cell_type": "code",
   "execution_count": 218,
   "id": "phantom-welcome",
   "metadata": {},
   "outputs": [
    {
     "data": {
      "image/png": "[encoded data removed]",
      "text/plain": [
       "<Figure size 576x396 with 1 Axes>"
      ]
     },
     "metadata": {},
     "output_type": "display_data"
    }
   ],
   "source": [
    "df[\"Cost\"].plot(kind=\"hist\",title=\"Cost of Burrito \")\n",
    "plt.xlabel(\"cost\")\n",
    "plt.show()\n",
    "#There is a slight differnce in 7 \n",
    "#it has increased a little over 250."
   ]
  },
  {
   "cell_type": "markdown",
   "id": "understood-sullivan",
   "metadata": {},
   "source": [
    "# Replace with the median"
   ]
  },
  {
   "cell_type": "code",
   "execution_count": 219,
   "id": "authorized-herald",
   "metadata": {},
   "outputs": [
    {
     "data": {
      "image/png": "[encoded data removed]",
      "text/plain": [
       "<Figure size 576x396 with 1 Axes>"
      ]
     },
     "metadata": {},
     "output_type": "display_data"
    }
   ],
   "source": [
    "d= df[\"overall\"]\n",
    "d.plot(kind=\"hist\",title=\"The Overal\")\n",
    "plt.xlabel(\"overall\")\n",
    "plt.show()\n",
    "#I can see that most data are centered between 3.5 and 4.5"
   ]
  },
  {
   "cell_type": "code",
   "execution_count": 220,
   "id": "missing-titanium",
   "metadata": {},
   "outputs": [
    {
     "data": {
      "text/plain": [
       "2"
      ]
     },
     "execution_count": 220,
     "metadata": {},
     "output_type": "execute_result"
    }
   ],
   "source": [
    "sum(d.isnull())\n",
    "#There is just two missing values \n",
    "# In this case median will be appropriat"
   ]
  },
  {
   "cell_type": "code",
   "execution_count": 221,
   "id": "substantial-modification",
   "metadata": {},
   "outputs": [
    {
     "data": {
      "text/plain": [
       "3.8"
      ]
     },
     "execution_count": 221,
     "metadata": {},
     "output_type": "execute_result"
    }
   ],
   "source": [
    "cmedian= df[\"overall\"].median()\n",
    "cmedian"
   ]
  },
  {
   "cell_type": "code",
   "execution_count": 222,
   "id": "recorded-torture",
   "metadata": {},
   "outputs": [
    {
     "data": {
      "text/plain": [
       "0"
      ]
     },
     "execution_count": 222,
     "metadata": {},
     "output_type": "execute_result"
    }
   ],
   "source": [
    "df[\"overall\"] = df[\"overall\"].fillna(cmedian)\n",
    "#Check\n",
    "df[\"overall\"].isnull().sum()"
   ]
  },
  {
   "cell_type": "code",
   "execution_count": 223,
   "id": "separated-beach",
   "metadata": {},
   "outputs": [
    {
     "data": {
      "image/png": "[encoded data removed]",
      "text/plain": [
       "<Figure size 576x396 with 1 Axes>"
      ]
     },
     "metadata": {},
     "output_type": "display_data"
    }
   ],
   "source": [
    "d= df[\"overall\"]\n",
    "d.plot(kind=\"hist\",title=\"The Overal\")\n",
    "plt.xlabel(\"overall\")\n",
    "plt.show()"
   ]
  },
  {
   "cell_type": "markdown",
   "id": "radical-technology",
   "metadata": {},
   "source": [
    "# Replace with the mode"
   ]
  },
  {
   "cell_type": "code",
   "execution_count": 224,
   "id": "sporting-disclaimer",
   "metadata": {},
   "outputs": [
    {
     "data": {
      "image/png": "[encoded data removed]",
      "text/plain": [
       "<Figure size 576x396 with 1 Axes>"
      ]
     },
     "metadata": {},
     "output_type": "display_data"
    }
   ],
   "source": [
    "d= df[\"Synergy\"]\n",
    "d.plot(kind=\"hist\",title=\"Synergy Visualization\")\n",
    "plt.xlabel(\"Synergy\")\n",
    "plt.show()\n",
    "#my goal is to fill data without affecting the efficiency of the data"
   ]
  },
  {
   "cell_type": "code",
   "execution_count": 225,
   "id": "naval-exhaust",
   "metadata": {},
   "outputs": [
    {
     "data": {
      "text/plain": [
       "2"
      ]
     },
     "execution_count": 225,
     "metadata": {},
     "output_type": "execute_result"
    }
   ],
   "source": [
    "sum(df[\"Synergy\"].isnull())\n",
    "#it will not affect efficiency of data because it has just two missing values"
   ]
  },
  {
   "cell_type": "code",
   "execution_count": 226,
   "id": "silent-baptist",
   "metadata": {},
   "outputs": [
    {
     "data": {
      "text/plain": [
       "0"
      ]
     },
     "execution_count": 226,
     "metadata": {},
     "output_type": "execute_result"
    }
   ],
   "source": [
    "df[\"overall\"] = df[\"overall\"].fillna(df[\"overall\"].mode())\n",
    "#Check\n",
    "df[\"overall\"].isnull().sum()"
   ]
  },
  {
   "cell_type": "code",
   "execution_count": 227,
   "id": "annoying-frank",
   "metadata": {},
   "outputs": [
    {
     "data": {
      "image/png": "[encoded data removed]",
      "text/plain": [
       "<Figure size 576x396 with 1 Axes>"
      ]
     },
     "metadata": {},
     "output_type": "display_data"
    }
   ],
   "source": [
    "d= df[\"Synergy\"]\n",
    "d.plot(kind=\"hist\",title=\"Synergy Visualization\")\n",
    "plt.xlabel(\"Synergy\")\n",
    "plt.show()"
   ]
  },
  {
   "cell_type": "markdown",
   "id": "listed-briefs",
   "metadata": {},
   "source": [
    "# Replace with your own value"
   ]
  },
  {
   "cell_type": "code",
   "execution_count": 233,
   "id": "immediate-dietary",
   "metadata": {},
   "outputs": [
    {
     "data": {
      "image/png": "[encoded data removed]",
      "text/plain": [
       "<Figure size 576x396 with 1 Axes>"
      ]
     },
     "metadata": {},
     "output_type": "display_data"
    }
   ],
   "source": [
    "d= df[\"Wrap\"]\n",
    "d.plot(kind=\"hist\",title=\"Wrap Visualization\")\n",
    "plt.xlabel(\"Wrap\")\n",
    "plt.show()\n",
    "#After observing data I can see that 5 is the highest value, so I will fill with 5 "
   ]
  },
  {
   "cell_type": "code",
   "execution_count": 234,
   "id": "extra-river",
   "metadata": {},
   "outputs": [
    {
     "data": {
      "text/plain": [
       "3"
      ]
     },
     "execution_count": 234,
     "metadata": {},
     "output_type": "execute_result"
    }
   ],
   "source": [
    "sum(d.isnull())"
   ]
  },
  {
   "cell_type": "code",
   "execution_count": 235,
   "id": "behind-field",
   "metadata": {},
   "outputs": [
    {
     "data": {
      "text/plain": [
       "0"
      ]
     },
     "execution_count": 235,
     "metadata": {},
     "output_type": "execute_result"
    }
   ],
   "source": [
    "df[\"Wrap\"] = df[\"Wrap\"].fillna(5)\n",
    "#Check\n",
    "df[\"Wrap\"].isnull().sum()"
   ]
  },
  {
   "cell_type": "code",
   "execution_count": 236,
   "id": "thousand-award",
   "metadata": {},
   "outputs": [
    {
     "data": {
      "image/png": "[encoded data removed]",
      "text/plain": [
       "<Figure size 576x396 with 1 Axes>"
      ]
     },
     "metadata": {},
     "output_type": "display_data"
    }
   ],
   "source": [
    "d= df[\"Wrap\"]\n",
    "d.plot(kind=\"hist\",title=\"Wrap Visualization\")\n",
    "plt.xlabel(\"Wrap\")\n",
    "plt.show()"
   ]
  },
  {
   "cell_type": "markdown",
   "id": "challenging-strike",
   "metadata": {},
   "source": [
    "# Forwards filling"
   ]
  },
  {
   "cell_type": "code",
   "execution_count": null,
   "id": "aging-forty",
   "metadata": {},
   "outputs": [],
   "source": [
    "#['Location', 'Burrito', 'Date', 'Hunger', 'Tortilla', 'Temp','Meat', \n",
    "#'Fillings', 'Meat:filling', 'Uniformity', 'Salsa', 'Reviewer']\n",
    "#This is the columns that has never been filled "
   ]
  },
  {
   "cell_type": "code",
   "execution_count": null,
   "id": "marked-roller",
   "metadata": {},
   "outputs": [],
   "source": [
    "#Checked for data that has highest null values to fill the with forwards and backwards"
   ]
  },
  {
   "cell_type": "code",
   "execution_count": 299,
   "id": "contrary-match",
   "metadata": {},
   "outputs": [
    {
     "data": {
      "text/html": [
       "<div>\n",
       "<style scoped>\n",
       "    .dataframe tbody tr th:only-of-type {\n",
       "        vertical-align: middle;\n",
       "    }\n",
       "\n",
       "    .dataframe tbody tr th {\n",
       "        vertical-align: top;\n",
       "    }\n",
       "\n",
       "    .dataframe thead th {\n",
       "        text-align: right;\n",
       "    }\n",
       "</style>\n",
       "<table border=\"1\" class=\"dataframe\">\n",
       "  <thead>\n",
       "    <tr style=\"text-align: right;\">\n",
       "      <th></th>\n",
       "      <th>Location</th>\n",
       "      <th>Burrito</th>\n",
       "      <th>Date</th>\n",
       "      <th>Neighborhood</th>\n",
       "      <th>Address</th>\n",
       "      <th>URL</th>\n",
       "      <th>Yelp</th>\n",
       "      <th>Google</th>\n",
       "      <th>Chips</th>\n",
       "      <th>Cost</th>\n",
       "      <th>...</th>\n",
       "      <th>Nopales</th>\n",
       "      <th>Lobster</th>\n",
       "      <th>Queso</th>\n",
       "      <th>Egg</th>\n",
       "      <th>Mushroom</th>\n",
       "      <th>Bacon</th>\n",
       "      <th>Sushi</th>\n",
       "      <th>Avocado</th>\n",
       "      <th>Corn</th>\n",
       "      <th>Zucchini</th>\n",
       "    </tr>\n",
       "  </thead>\n",
       "  <tbody>\n",
       "  </tbody>\n",
       "</table>\n",
       "<p>0 rows × 66 columns</p>\n",
       "</div>"
      ],
      "text/plain": [
       "Empty DataFrame\n",
       "Columns: [Location, Burrito, Date, Neighborhood, Address, URL, Yelp, Google, Chips, Cost, Hunger, Mass (g), Density (g/mL), Length, Circum, Volume, Tortilla, Temp, Meat, Fillings, Meat:filling, Uniformity, Salsa, Synergy, Wrap, overall, Rec, Reviewer, Notes, Unreliable, NonSD, Beef, Pico, Guac, Cheese, Fries, Sour cream, Pork, Chicken, Shrimp, Fish, Rice, Beans, Lettuce, Tomato, Bell peper, Carrots, Cabbage, Sauce, Salsa.1, Cilantro, Onion, Taquito, Pineapple, Ham, Chile relleno, Nopales, Lobster, Queso, Egg, Mushroom, Bacon, Sushi, Avocado, Corn, Zucchini]\n",
       "Index: []\n",
       "\n",
       "[0 rows x 66 columns]"
      ]
     },
     "execution_count": 299,
     "metadata": {},
     "output_type": "execute_result"
    }
   ],
   "source": [
    "g=df[(df['Location'].isnull()&df['Burrito'].isnull()&df['Date'].isnull()&df['Tortilla'].isnull())]\n",
    "g \n",
    "#those has no nlls"
   ]
  },
  {
   "cell_type": "code",
   "execution_count": 283,
   "id": "nearby-mystery",
   "metadata": {},
   "outputs": [
    {
     "data": {
      "text/plain": [
       "3"
      ]
     },
     "execution_count": 283,
     "metadata": {},
     "output_type": "execute_result"
    }
   ],
   "source": [
    "sum(df[\"Hunger\"].isnull())"
   ]
  },
  {
   "cell_type": "code",
   "execution_count": 285,
   "id": "indie-prison",
   "metadata": {},
   "outputs": [
    {
     "data": {
      "text/plain": [
       "20"
      ]
     },
     "execution_count": 285,
     "metadata": {},
     "output_type": "execute_result"
    }
   ],
   "source": [
    "sum(df['Temp'].isnull())"
   ]
  },
  {
   "cell_type": "code",
   "execution_count": 309,
   "id": "stupid-vanilla",
   "metadata": {},
   "outputs": [
    {
     "data": {
      "text/plain": [
       "25"
      ]
     },
     "execution_count": 309,
     "metadata": {},
     "output_type": "execute_result"
    }
   ],
   "source": [
    "sum(df[\"Salsa\"].isnull())"
   ]
  },
  {
   "cell_type": "code",
   "execution_count": 300,
   "id": "tight-opposition",
   "metadata": {},
   "outputs": [
    {
     "data": {
      "text/plain": [
       "3"
      ]
     },
     "execution_count": 300,
     "metadata": {},
     "output_type": "execute_result"
    }
   ],
   "source": [
    "sum(df[\"Fillings\"].isnull())"
   ]
  },
  {
   "cell_type": "code",
   "execution_count": 303,
   "id": "olive-enhancement",
   "metadata": {},
   "outputs": [
    {
     "data": {
      "text/plain": [
       "9"
      ]
     },
     "execution_count": 303,
     "metadata": {},
     "output_type": "execute_result"
    }
   ],
   "source": [
    "sum(df[\"Meat:filling\"].isnull())"
   ]
  },
  {
   "cell_type": "code",
   "execution_count": 301,
   "id": "thirty-decade",
   "metadata": {},
   "outputs": [
    {
     "data": {
      "text/plain": [
       "14"
      ]
     },
     "execution_count": 301,
     "metadata": {},
     "output_type": "execute_result"
    }
   ],
   "source": [
    "sum(df[\"Meat\"].isnull())"
   ]
  },
  {
   "cell_type": "code",
   "execution_count": null,
   "id": "dutch-cathedral",
   "metadata": {},
   "outputs": [],
   "source": [
    "#So salsa and Temp has highest missing values\n",
    "#I will fill them with b/ffil."
   ]
  },
  {
   "cell_type": "code",
   "execution_count": 310,
   "id": "narrative-vintage",
   "metadata": {},
   "outputs": [
    {
     "data": {
      "image/png": "[encoded data removed]",
      "text/plain": [
       "<Figure size 576x396 with 1 Axes>"
      ]
     },
     "metadata": {},
     "output_type": "display_data"
    }
   ],
   "source": [
    "d= df[\"Temp\"]\n",
    "d.plot(kind=\"hist\",title=\"Temp Visualization\")\n",
    "plt.xlabel(\"Temp\")\n",
    "plt.show()"
   ]
  },
  {
   "cell_type": "code",
   "execution_count": 311,
   "id": "needed-approval",
   "metadata": {},
   "outputs": [
    {
     "data": {
      "text/plain": [
       "0      5.0\n",
       "1      3.5\n",
       "2      2.0\n",
       "3      2.0\n",
       "4      5.0\n",
       "      ... \n",
       "418    4.0\n",
       "419    5.0\n",
       "420    4.0\n",
       "421    2.0\n",
       "422    5.0\n",
       "Name: Temp, Length: 423, dtype: float64"
      ]
     },
     "execution_count": 311,
     "metadata": {},
     "output_type": "execute_result"
    }
   ],
   "source": [
    "df[\"Temp\"].fillna(method=\"ffill\")"
   ]
  },
  {
   "cell_type": "code",
   "execution_count": 312,
   "id": "entitled-testimony",
   "metadata": {},
   "outputs": [
    {
     "data": {
      "image/png": "[encoded data removed]",
      "text/plain": [
       "<Figure size 576x396 with 1 Axes>"
      ]
     },
     "metadata": {},
     "output_type": "display_data"
    }
   ],
   "source": [
    "d= df[\"Temp\"]\n",
    "d.plot(kind=\"hist\",title=\"Temp Visualization\")\n",
    "plt.xlabel(\"Temp\")\n",
    "plt.show()"
   ]
  },
  {
   "cell_type": "markdown",
   "id": "static-parameter",
   "metadata": {},
   "source": [
    "# backward  filling"
   ]
  },
  {
   "cell_type": "code",
   "execution_count": 313,
   "id": "thrown-antibody",
   "metadata": {},
   "outputs": [
    {
     "data": {
      "text/plain": [
       "25"
      ]
     },
     "execution_count": 313,
     "metadata": {},
     "output_type": "execute_result"
    }
   ],
   "source": [
    "sum(df[\"Salsa\"].isnull())"
   ]
  },
  {
   "cell_type": "code",
   "execution_count": 314,
   "id": "appointed-convergence",
   "metadata": {},
   "outputs": [
    {
     "data": {
      "image/png": "[encoded data removed]",
      "text/plain": [
       "<Figure size 576x396 with 1 Axes>"
      ]
     },
     "metadata": {},
     "output_type": "display_data"
    }
   ],
   "source": [
    "d= df[\"Salsa\"]\n",
    "d.plot(kind=\"hist\",title=\"Salsa Visualization\")\n",
    "plt.xlabel(\"Salsa\")\n",
    "plt.show()"
   ]
  },
  {
   "cell_type": "code",
   "execution_count": 315,
   "id": "extra-midnight",
   "metadata": {},
   "outputs": [
    {
     "data": {
      "text/plain": [
       "0      4.0\n",
       "1      3.5\n",
       "2      3.0\n",
       "3      4.0\n",
       "4      2.5\n",
       "      ... \n",
       "418    2.0\n",
       "419    5.0\n",
       "420    3.5\n",
       "421    5.0\n",
       "422    3.0\n",
       "Name: Salsa, Length: 423, dtype: float64"
      ]
     },
     "execution_count": 315,
     "metadata": {},
     "output_type": "execute_result"
    }
   ],
   "source": [
    "df[\"Salsa\"].fillna(method=\"bfill\")"
   ]
  },
  {
   "cell_type": "code",
   "execution_count": 316,
   "id": "coastal-thailand",
   "metadata": {
    "scrolled": false
   },
   "outputs": [
    {
     "data": {
      "image/png": "[encoded data removed]",
      "text/plain": [
       "<Figure size 576x396 with 1 Axes>"
      ]
     },
     "metadata": {},
     "output_type": "display_data"
    }
   ],
   "source": [
    "d= df[\"Salsa\"]\n",
    "d.plot(kind=\"hist\",title=\"Salsa Visualization\")\n",
    "plt.xlabel(\"Salsa\")\n",
    "plt.show()"
   ]
  }
 ],
 "metadata": {
  "kernelspec": {
   "display_name": "Python 3",
   "language": "python",
   "name": "python3"
  },
  "language_info": {
   "codemirror_mode": {
    "name": "ipython",
    "version": 3
   },
   "file_extension": ".py",
   "mimetype": "text/x-python",
   "name": "python",
   "nbconvert_exporter": "python",
   "pygments_lexer": "ipython3",
   "version": "3.9.1"
  }
 },
 "nbformat": 4,
 "nbformat_minor": 5
}
