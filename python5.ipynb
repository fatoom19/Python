#!/usr/bin/env python
# coding: utf-8

# In[8]:


import pandas as pd


# In[68]:



# Cost for adults and children
ticket_cost_elderly=10
ticket_cost = 10 
ticket_cost_child = 7.5 
movies = ['The Shawshank Redemption', 'The Dark Knight', 'Interstellar', 'Catch Me If You Can', 'The Wolf of Wall Street']  # List 5 of your favorite movies
screens =  5                               #Number of screens
showtimes = 4                              #Number of movies played per screen each day
seats_capacity =  200                      #Maximum number of seats in a screen
online_capacity_factor = 0.2               #Percentage of seats available for online booking (ex. 0.2 of 200 = 40 seats available for online booking)
online_discount = 0.1                      #Percentage of discount for online booking (ex. 0.1 of 10 = 1 dollar discount for each ticket purchased via online booking)
week_days = ['Sunday','Monday','Tuesday','Wednesday','Thursday','Friday','Saturday']  #weekdays
weekend = ['Thursday','Friday','Saturday'] #specify weekend days 
snacks = {'ice cream':5,'popcorn': 8,'soda':8,'Dessert':9,'nachos':10 ,'hot dog':9,'fries':5,'Mozzarella sticks':0} #menu of snacks
snacks_prob = [0.05,0.3,0.3,0.05,0.1,0.1,0.05,0.05] #Probability of purchase for each snacks (ex. if the probability of popcorn is 0.3 and probability of hot dog is 0.1) it means that on average people will buy popcorn 3 times more than hot dog
weekly_fixed_costs = {'property rent': 1500,'insurance_cost':250 ,'full time employee salary': 5000,'manager': 1300} #list of weekly fixed cost
daily_variable_costs ={'part time employees': 5,'part time employees salary': 72, 'utilities' :250, 'catering':0.2} 
#list of daily daily variable cost and their absolute maximum  
# 'part time employees' represent the maximum number of part time employee that will be employed in rush day (at full capacity) 
#'part time employees salary'= represents the daily salary for each part time employee
#''utilities' represents  the maximum value for daily utilities if the cinema is working at full capacity
#''catering'=0.2 represents the cost of a snacks relative to selling price, ex: if we sell nachos at 10$ then it costed 2$ to buy it.




# In[ ]:


def cinema_simulator(ticket_cost,ticket_cost_child,screens,seats,showtimes,seats_capacity,online_capacity_factor,
                            online_discount,week_days,weekend,snacks,snacks_prob,weekly_fixed_costs,daily_variable_costs):
    df = pd.DataFrame()
    for day in days:
    for day in range(7):

cinema_simulator <- function(ticket_cost,ticket_cost_child,screens,seats,showtimes,seats_capacity,online_capacity_factor,
                            online_discount,week_days,weekend,snacks,snacks_prob,weekly_fixed_costs,daily_variable_costs){
  df <- data.frame()
  # iterate through the week
  for (day in 1:7) {
  --------------------------------------------------------------------------------------------
    #Zeroing variables that counts daily visitors,bookings,revenue each day to prevent cumulative sum from previous day.
    total_online_adults_reservations = 0
    total_online_children_reservations = 0
    total_adults_visitors = 0    
    total_children_visitors = 0  
    online_tickets_revenue = 0
    tickets_revenue = 0
    
    # Check the day if it is a weekend
    # in weekend day we expect higher utilization than normal weekdays 
    if (week_days[day]%in%weekend) seats = seats_capacity
    else 
      seats=seats_capacity*rnorm(1,.80,0.07)  # in mid week days the utilization is 0.8 that of the weekend with 0.07 standard deviation (it changes each day)
    
    # iterate through the amount of movies that will play on a particular day = number of screens(auditoriums) * number of movies played each day
    for (theater in 1:(screens*showtimes))
    {
      #Online_Bookings
      online_seats = seats * online_capacity_factor # To calculate the number of seats available for online booking
      adults_online <- sample(online_seats,1)
      children_online <- floor(sample((online_seats-adults_online),1))
      total_online_adults_reservations = total_online_adults_reservations + adults_online
      total_online_children_reservations = total_online_children_reservations + children_online
      online_movie_revenue = (children_online*ticket_cost_child*online_discount) + (adults_online*ticket_cost*online_discount)
      online_tickets_revenue = online_movie_revenue + online_tickets_revenue
      
      #Cinema_Bookings 
      remaining_seats = seats*(1-online_capacity_factor) + (online_seats - adults_online - children_online) # To calculate the number of seats available for purchase from in store(cashier) after online booking 
      adults_visitors = sample(remaining_seats,1)                                  
      children_visitors = floor(sample((remaining_seats-adults_visitors),1))             
      total_adults_visitors = total_adults_visitors + adults_visitors             
      total_children_visitors = total_children_visitors + children_visitors         
      movie_revenue = (adults_visitors*ticket_cost) + (children_visitors*ticket_cost_child) 
      tickets_revenue = movie_revenue + tickets_revenue 
    }
    
    #Snacks
    total_sold_daily_tickets = total_children_visitors + total_adults_visitors + total_online_children_reservations + total_online_adults_reservations # total sold tickets online+in store per day (total visitors)
    sold_snacks=sample(snacks,(total_sold_daily_tickets*rnorm(1,1.5,0.4)),replace = TRUE,prob = snacks_prob) # list of daily purchased snacks by all visitors for particular day (it changes each day but on average each customer buys 1.5 items with 0.4 standard deviations)
    total_daily_snacks_revenue = sum(unlist(sold_snacks)) 
    
    #Total Revenues
    total_daily_revenues = total_daily_snacks_revenue + tickets_revenue + online_tickets_revenue
    
    #Cost
    #Variable Costs
    part_time_employees = round((total_sold_daily_tickets/(seats*screens*showtimes))*unlist(daily_variable_costs[1])) #calculate the needed part time employee on a particular day it depends on the number of tickets sold (visitors)
    part_time_employees_salary = part_time_employees * unlist(daily_variable_costs[2])
    utilities = total_sold_daily_tickets/(seats*screens*showtimes) * unlist(daily_variable_costs[3]) #calculate the cost of utilities on a particular day it depends on the number of sold tickets  (visitors)
    catering_cost = total_daily_snacks_revenue * unlist(daily_variable_costs[4]) #calculate the cost of snacks on a particular day it depends on the number of sold snacks 
    total_Variable_costs = part_time_employees_salary + utilities + catering_cost
    #Fixed Costs
    total_fixed_costs = sum(unlist(weekly_fixed_costs))/7
    #Total Cost
    total_daily_cost = total_fixed_costs + total_Variable_costs
    
    #Profit
    daily_net_profit = total_daily_revenues - total_daily_cost
    
    # adding the results of each day to data frame
    new_row <- c(week_days[day],total_adults_visitors, total_children_visitors,
                 total_online_adults_reservations,total_online_children_reservations,
                 tickets_revenue,online_tickets_revenue,total_daily_snacks_revenue, 
                 total_daily_revenues,total_fixed_costs,total_Variable_costs,total_daily_cost,
                 daily_net_profit)
    df <- rbind(df, new_row)
  }
  
  # Data frame styling (changing column names)
  names(df) <- c('Day', 'Adult Visitors', 'Children Visitors', 'Online Adult Reservations', 'Online Children Reservations', 'Tickets Revenue',
                 'Online Tickets Revenue','Snacks Revenue','Total Revenue','Fixed Cost','Variable Cost','Total Costs','Net Profit')
  # change the type of data to numeric for some columns
  cols <- names(df)[-1] 
  df[cols] <- lapply(df[cols], as.numeric)
  return(df) #output of the function is a dataframe
}


df=cinema_simulator(ticket_cost,ticket_cost_child,screens,seats,showtimes,seats_capacity,online_capacity_factor,
                 online_discount,week_days,weekend,snacks,snacks_prob,weekly_fixed_costs,daily_variable_costs)

# # ticket

# In[76]:


def disconte(days):

    if days =="friday": 
        ticket_price = [ticket_cost_child,ticket_cost, ticket_cost_elderly*0.75]
        ticket_type = ['kids', 'Adults', 'Elderly']
        snack_db = {'ticket_price':ticket_price, 'ticket_type':ticket_type}
        snack_df = pd.DataFrame(snack_db)
    else:
        ticket_price = [ticket_cost_child,ticket_cost, ticket_cost_elderly]
        ticket_type = ['kids', 'Adults', 'Elderly']
        snack_db = {'ticket_price':ticket_price, 'ticket_type':ticket_type}
        snack_df = pd.DataFrame(snack_db)
        #print('Enter the name of the day')
    return snack_df
#elif days == "saturday" |"sunday"|"monday"|"tuesday"|"wednesday"|"thursday":


# In[77]:


disconte("friday")


# In[78]:


disconte("monday")


# # snacks

# In[223]:



def Sales_snacks(days):
    if days=="Saturday"or days=="friday":   #We increased the prices on the weekend to generate more profit
        shwo_snacks = pd.Series(snacks)
        snacks_df = shwo_snacks.append(shwo_snacks)
        print(snacks_df*2)
    else:
        shwo_snacks = pd.Series(snacks)
        snacks_df = shwo_snacks.append(shwo_snacks)
        print(snacks_df)
        #emp_df


# In[224]:


Sales_snacks("friday")


# In[225]:


Sales_snacks("Saturday")


# In[226]:


Sales_snacks("monday")

