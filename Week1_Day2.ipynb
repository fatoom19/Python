{
  "nbformat": 4,
  "nbformat_minor": 0,
  "metadata": {
    "colab": {
      "name": "Week1_Day2.ipynb",
      "provenance": [],
      "collapsed_sections": []
    },
    "kernelspec": {
      "name": "python3",
      "display_name": "Python 3"
    },
    "language_info": {
      "name": "python"
    }
  },
  "cells": [
    {
      "cell_type": "code",
      "execution_count": 8,
      "metadata": {
        "colab": {
          "base_uri": "https://localhost:8080/"
        },
        "id": "vBzQJHH5OjRC",
        "outputId": "b9088f3c-e64f-4cca-c7ac-dc8915fbade5"
      },
      "outputs": [
        {
          "output_type": "stream",
          "name": "stdout",
          "text": [
            "[5, 4, 3, 2, 1, 0]\n"
          ]
        }
      ],
      "source": [
        "#1. Countdown - Create a function that accepts a number as an input. \n",
        "#Return a new list that counts down by one, from the number (as the 0th element) down to 0 (as the last element).\n",
        "#Example: countdown(5) should return the list: [5,4,3,2,1,0]\n",
        "\n",
        "def Countdown(n):\n",
        "  mylist= list()\n",
        "  n=n+1\n",
        "  for i in range(n):\n",
        "    n=n-1\n",
        "    mylist.append(n)\n",
        "  print(mylist)\n",
        "\n",
        "Countdown(5)"
      ]
    },
    {
      "cell_type": "code",
      "source": [
        "\"\"\"\n",
        "2. Print and Return - Create a function that will receive a list with two numbers. Print the first value and return the second.\n",
        "\n",
        "Example: print_and_return([1,2]) should print 1 and return 2\n",
        "\"\"\"\n",
        "def print_and_return(n):\n",
        "  #print first element\n",
        "  print(n[0])\n",
        "  #return last element\n",
        "  return(n[len(n)-1])\n",
        "  \n",
        "\n",
        "print_and_return([1,2])"
      ],
      "metadata": {
        "colab": {
          "base_uri": "https://localhost:8080/"
        },
        "id": "VR64V-JoPfiC",
        "outputId": "42a49d93-969c-4dc0-fc71-663b3ab534f4"
      },
      "execution_count": 13,
      "outputs": [
        {
          "output_type": "stream",
          "name": "stdout",
          "text": [
            "1\n"
          ]
        },
        {
          "output_type": "execute_result",
          "data": {
            "text/plain": [
              "2"
            ]
          },
          "metadata": {},
          "execution_count": 13
        }
      ]
    },
    {
      "cell_type": "code",
      "source": [
        "\"\"\"\n",
        "3. First Plus Length - Create a function that accepts a list and returns the sum of the first value in the list plus the list's length.\n",
        "\n",
        "Example: first_plus_length([1,2,3,4,5]) should return 6 (first value: 1 + length: 5)\n",
        "\n",
        "\"\"\"\n",
        "def first_plus_length(n):\n",
        "\n",
        "  x=n[0]\n",
        "  y=len(n)\n",
        "  print(x+y)\n",
        "\n",
        "\n",
        "first_plus_length([1,2,3,4,5])"
      ],
      "metadata": {
        "colab": {
          "base_uri": "https://localhost:8080/"
        },
        "id": "s5xk586kQTqT",
        "outputId": "420e14cf-c273-4957-a5cc-88bbaccf8a75"
      },
      "execution_count": 24,
      "outputs": [
        {
          "output_type": "stream",
          "name": "stdout",
          "text": [
            "6\n"
          ]
        }
      ]
    },
    {
      "cell_type": "code",
      "source": [
        "\"\"\"\n",
        "4. This Length, That Value - Write a function that accepts two integers as parameters: size and value.\n",
        "The function should create and return a list whose length is equal to the given size, and whose values are all the given value.\n",
        "\n",
        "Example: length_and_value(4,7) should return [7,7,7,7]\n",
        "Example: length_and_value(6,2) should return [2,2,2,2,2,2]\n",
        "\"\"\"\n",
        "def length_and_value(n1,n2):\n",
        "  mylist=[]\n",
        "  for i in range(n1):\n",
        "    mylist.append(n2)\n",
        "  print(mylist)\n",
        "\n",
        "\n",
        "length_and_value(4,7)\n",
        "length_and_value(6,2)"
      ],
      "metadata": {
        "colab": {
          "base_uri": "https://localhost:8080/"
        },
        "id": "Y-3yZ4LPPbT4",
        "outputId": "4a6b3184-47fd-4fd3-a73f-2cd1ded3ae0f"
      },
      "execution_count": 26,
      "outputs": [
        {
          "output_type": "stream",
          "name": "stdout",
          "text": [
            "[7, 7, 7, 7]\n",
            "[2, 2, 2, 2, 2, 2]\n"
          ]
        }
      ]
    },
    {
      "cell_type": "code",
      "source": [
        "\"\"\"\n",
        "5. Values Greater than Second (Optional) -\n",
        " Write a function that accepts a list and creates a new list containing only the values from the original list that are greater than its 2nd value. \n",
        " Print how many values this is and then return the new list.\n",
        "  If the list has less than 2 elements, have the function return False.\n",
        "Example: values_greater_than_second([5,2,3,2,1,4]) should print 3 and return [5,3,4]\n",
        "Example: values_greater_than_second([3]) should return False\n",
        "\"\"\"\n",
        "def values_greater_than_second(l):\n",
        "  mylist=[]\n",
        "  for i in l:\n",
        "    if(len(l)>1):\n",
        "      x=l[1]\n",
        "      if (i>x):\n",
        "        mylist.append(i)\n",
        "    else:\n",
        "      return(False)\n",
        "  print(len(mylist))\n",
        "  print(mylist)\n",
        "\n",
        "values_greater_than_second([5,2,3,2,1,4])\n",
        "values_greater_than_second([3])"
      ],
      "metadata": {
        "colab": {
          "base_uri": "https://localhost:8080/"
        },
        "id": "zeSOoPhqTAMr",
        "outputId": "e2a3d664-b55c-4886-dd16-9a4570903c97"
      },
      "execution_count": 44,
      "outputs": [
        {
          "output_type": "stream",
          "name": "stdout",
          "text": [
            "3\n",
            "[5, 3, 4]\n"
          ]
        },
        {
          "output_type": "execute_result",
          "data": {
            "text/plain": [
              "False"
            ]
          },
          "metadata": {},
          "execution_count": 44
        }
      ]
    },
    {
      "cell_type": "code",
      "source": [
        ""
      ],
      "metadata": {
        "id": "iUFA5a6pU0KE"
      },
      "execution_count": null,
      "outputs": []
    }
  ]
}